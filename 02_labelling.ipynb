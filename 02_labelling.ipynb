{
 "cells": [
  {
   "cell_type": "markdown",
   "metadata": {},
   "source": [
    "# Labelling\n",
    "\n",
    "Now that we have our input and out defined. For each corresponding input, we need to label the correct output target.\n",
    "\n",
    "Labeling is one of the most important steps in the AI/ML lifecycle. A popular term is \"garbage in, garbage out\". The model is only as good as what you feed it.\n",
    "\n",
    "Below is a simple NER labelling task\n"
   ]
  },
  {
   "cell_type": "markdown",
   "metadata": {},
   "source": [
    "## Instructions\n",
    "\n",
    "You are given titles of declared incidents.\n",
    "\n",
    "We want to extract two key information from the titles if they exist\n",
    "\n",
    "1. The service affected (SVC)\n",
    "2. The environment affected (ENV)\n",
    "\n",
    "The text will represented as a list of words.\n",
    "\n",
    "You will label the first word of the relevant entity with: B-SVC or B-ENV\n",
    "\n",
    "Any subsequent words will be labeled I-SVC or I-ENV\n",
    "\n",
    "Unrelated words will be labeled 'O' by default.\n",
    "\n",
    "\n",
    "Example:\n",
    "\n",
    "```python\n",
    "# proxy gateway is down in prod-us-east-3\n",
    "labels = [\n",
    "    [\n",
    "        \"B-SVC\",  # proxy\n",
    "        \"I-SVC\",  # gateway\n",
    "        \"O\",  # is\n",
    "        \"O\",  # down\n",
    "        \"O\",  # in\n",
    "        \"B-ENV\",  # prod-us-east-3\n",
    "    ],\n",
    "    ...\n",
    "]\n",
    "```\n",
    "\n",
    "Note: this problem is known as a Named Entity Recognition (NER) problem."
   ]
  },
  {
   "cell_type": "code",
   "execution_count": 1,
   "metadata": {},
   "outputs": [],
   "source": [
    "data = [\n",
    "    'Alertmanager cluster failed to send alerts',\n",
    "    'alerting bypass dspermissions',\n",
    "    'SM Probes Bad Deploy',\n",
    "    'Grafana Loki improper scaledown',\n",
    "    'Loki Prod Alerting',\n",
    "    'Logs Production Authentication Issues',\n",
    "    'Tempo Grafana 75 query',\n",
    "    'Tempo dev-us-central-0 Writes',\n",
    "    'OnCall Unable to Create Integrations due to Alertmanager',\n",
    "    'Grafana OnCall sync_organization_async task is stuck',\n",
    "]\n",
    "labels = []"
   ]
  },
  {
   "cell_type": "code",
   "execution_count": 2,
   "metadata": {},
   "outputs": [],
   "source": [
    "# Alertmanager cluster failed to send alerts\n",
    "label1 = [\n",
    "    \"O\",  # Alertmanager\n",
    "    \"O\",  # cluster\n",
    "    \"O\",  # failed\n",
    "    \"O\",  # to\n",
    "    \"O\",  # send\n",
    "    \"O\",  # alerts\n",
    "]\n",
    "labels.append(label1)\n"
   ]
  },
  {
   "cell_type": "code",
   "execution_count": 3,
   "metadata": {},
   "outputs": [],
   "source": [
    "# alerting bypass dspermissions\n",
    "label2 = [\n",
    "    \"O\",  # alerting\n",
    "    \"O\",  # bypass\n",
    "    \"O\",  # dspermissions\n",
    "]\n",
    "labels.append(label2)\n"
   ]
  },
  {
   "cell_type": "code",
   "execution_count": 4,
   "metadata": {},
   "outputs": [],
   "source": [
    "# SM Probes Bad Deploy\n",
    "label3 = [\n",
    "    \"O\",  # SM\n",
    "    \"O\",  # Probes\n",
    "    \"O\",  # Bad\n",
    "    \"O\",  # Deploy\n",
    "]\n",
    "labels.append(label3)\n"
   ]
  },
  {
   "cell_type": "code",
   "execution_count": 5,
   "metadata": {},
   "outputs": [],
   "source": [
    "# Grafana Loki improper scaledown\n",
    "label4 = [\n",
    "    \"O\",  # Grafana\n",
    "    \"O\",  # Loki\n",
    "    \"O\",  # improper\n",
    "    \"O\",  # scaledown\n",
    "]\n",
    "labels.append(label4)\n"
   ]
  },
  {
   "cell_type": "code",
   "execution_count": 6,
   "metadata": {},
   "outputs": [],
   "source": [
    "# Loki Prod Alerting\n",
    "label5 = [\n",
    "    \"O\",  # Loki\n",
    "    \"O\",  # Prod\n",
    "    \"O\",  # Alerting\n",
    "]\n",
    "labels.append(label5)\n"
   ]
  },
  {
   "cell_type": "code",
   "execution_count": 7,
   "metadata": {},
   "outputs": [],
   "source": [
    "# Logs Production Authentication Issues\n",
    "label6 = [\n",
    "    \"O\",  # Logs\n",
    "    \"O\",  # Production\n",
    "    \"O\",  # Authentication\n",
    "    \"O\",  # Issues\n",
    "]\n",
    "labels.append(label6)\n"
   ]
  },
  {
   "cell_type": "code",
   "execution_count": 8,
   "metadata": {},
   "outputs": [],
   "source": [
    "# Tempo Grafana 75 query\n",
    "label7 = [\n",
    "    \"O\",  # Tempo\n",
    "    \"O\",  # Grafana\n",
    "    \"O\",  # 75\n",
    "    \"O\",  # query\n",
    "]\n",
    "labels.append(label7)"
   ]
  },
  {
   "cell_type": "code",
   "execution_count": 9,
   "metadata": {},
   "outputs": [],
   "source": [
    "# Tempo dev-us-central-0 Writes\n",
    "label8 = [\n",
    "    \"O\",  # Tempo\n",
    "    \"O\",  # dev-us-central-0\n",
    "    \"O\",  # Writes\n",
    "]\n",
    "labels.append(label8)\n"
   ]
  },
  {
   "cell_type": "code",
   "execution_count": 10,
   "metadata": {},
   "outputs": [],
   "source": [
    "# OnCall Unable to Create Integrations due to Alertmanager\n",
    "label9 = [\n",
    "    \"O\",  # OnCall\n",
    "    \"O\",  # Unable\n",
    "    \"O\",  # to\n",
    "    \"O\",  # Create\n",
    "    \"O\",  # Integrations\n",
    "    \"O\",  # due\n",
    "    \"O\",  # to\n",
    "    \"O\",  # Alertmanager\n",
    "]\n",
    "labels.append(label9)\n"
   ]
  },
  {
   "cell_type": "code",
   "execution_count": 11,
   "metadata": {},
   "outputs": [],
   "source": [
    "# Grafana OnCall sync_organization_async task is stuck\n",
    "label10 = [\n",
    "    \"O\",  # Grafana\n",
    "    \"O\",  # OnCall\n",
    "    \"O\",  # sync_organization_async\n",
    "    \"O\",  # task\n",
    "    \"O\",  # is\n",
    "    \"O\",  # stuck\n",
    "]\n",
    "labels.append(label10)"
   ]
  },
  {
   "cell_type": "code",
   "execution_count": 12,
   "metadata": {},
   "outputs": [],
   "source": [
    "actual = [\n",
    "    ['B-SVC', 'O', 'O', 'O', 'O', 'O'],\n",
    "    ['O', 'O', 'O'],\n",
    "    ['B-SVC', 'O', 'O', 'O'],\n",
    "    ['O', 'B-SVC', 'O', 'O'],\n",
    "    ['B-SVC', 'B-ENV', 'O'],\n",
    "    ['B-SVC', 'B-ENV', 'O', 'O'],\n",
    "    ['B-SVC', 'B-SVC', 'O', 'O'],\n",
    "    ['B-SVC', 'B-ENV', 'O'],\n",
    "    ['B-SVC', 'O', 'O', 'O', 'O', 'O', 'O', 'B-SVC'],\n",
    "    ['O', 'B-SVC', 'O', 'O', 'O', 'O'],\n",
    "]"
   ]
  },
  {
   "cell_type": "code",
   "execution_count": 13,
   "metadata": {},
   "outputs": [
    {
     "name": "stdout",
     "output_type": "stream",
     "text": [
      "1\n"
     ]
    }
   ],
   "source": [
    "# calculate how many lines are correct\n",
    "correct = [l == a for l, a in zip(labels, actual)]\n",
    "print(sum(correct))"
   ]
  },
  {
   "cell_type": "markdown",
   "metadata": {},
   "source": [
    "This may be a toy example but we can still some places where labelling can be challenging.\n",
    "\n",
    "## 1. Context required:\n",
    "\n",
    "There are several Grafana product/services that not everyone might be familiar with.\n",
    "\n",
    "e.g. SM - Synthetic monitoring, Loki - log storage\n",
    "\n",
    "### Strategy:\n",
    "\n",
    "Try to reduce the context needed for the task. If that's not possible, provide context with the labels.\n",
    "\n",
    "## 2. Multiple correct answers:\n",
    "\n",
    "There are multiple correct ways to label.\n",
    "\n",
    "e.g.\n",
    "Labeling only \"OnCall\" as the service VS.\n",
    "Labeling the entire \"Grafana OnCall\" as the service.\n",
    "\n",
    "This might not be a big problem for us, but the model could get confused if the labeling is inconsistent.\n",
    "\n",
    "If the model is consistent but the labels are not, we might be penalizing the model for doing the \"right\" thing.\n",
    "\n",
    "### Strategy:\n",
    "\n",
    "Take a look at the data first, do a test label run to see what might be some difficult cases. Put a strategy for how to be consistent in the guideline.\n",
    "\n",
    "\n",
    "## 3. Scaling challenges:\n",
    "\n",
    "Imagine labels hundred or thousands. Not only does it be come time consuming but the change or errors will increase.\n",
    "\n",
    "### Strategy:\n",
    "\n",
    "Have multiple annotators annotate every task, take the majority answer between anotators."
   ]
  },
  {
   "cell_type": "code",
   "execution_count": 14,
   "metadata": {},
   "outputs": [
    {
     "data": {
      "text/plain": [
       "[('Alertmanager cluster failed to send alerts',\n",
       "  ['B-SVC', 'O', 'O', 'O', 'O', 'O']),\n",
       " ('alerting bypass dspermissions', ['O', 'O', 'O']),\n",
       " ('SM Probes Bad Deploy', ['B-SVC', 'O', 'O', 'O']),\n",
       " ('Grafana Loki improper scaledown', ['O', 'B-SVC', 'O', 'O']),\n",
       " ('Loki Prod Alerting', ['B-SVC', 'B-ENV', 'O']),\n",
       " ('Logs Production Authentication Issues', ['B-SVC', 'B-ENV', 'O', 'O']),\n",
       " ('Tempo Grafana 75 query', ['B-SVC', 'B-SVC', 'O', 'O']),\n",
       " ('Tempo dev-us-central-0 Writes', ['B-SVC', 'B-ENV', 'O']),\n",
       " ('OnCall Unable to Create Integrations due to Alertmanager',\n",
       "  ['B-SVC', 'O', 'O', 'O', 'O', 'O', 'O', 'B-SVC']),\n",
       " ('Grafana OnCall sync_organization_async task is stuck',\n",
       "  ['O', 'B-SVC', 'O', 'O', 'O', 'O'])]"
      ]
     },
     "execution_count": 14,
     "metadata": {},
     "output_type": "execute_result"
    }
   ],
   "source": [
    "list(zip(data, actual))"
   ]
  },
  {
   "cell_type": "markdown",
   "metadata": {},
   "source": [
    "Often times labeling is associated to training of a model. But the most important reason we label is actually to have data to evaluate the model.\n",
    "\n",
    "Especially with GenAI where we don't really have the notion of training, developers often skip labeling all together and have no real idea how their model is actually doing."
   ]
  },
  {
   "cell_type": "markdown",
   "metadata": {},
   "source": []
  }
 ],
 "metadata": {
  "kernelspec": {
   "display_name": "Python 3 (ipykernel)",
   "language": "python",
   "name": "python3"
  },
  "language_info": {
   "codemirror_mode": {
    "name": "ipython",
    "version": 3
   },
   "file_extension": ".py",
   "mimetype": "text/x-python",
   "name": "python",
   "nbconvert_exporter": "python",
   "pygments_lexer": "ipython3",
   "version": "3.11.9"
  }
 },
 "nbformat": 4,
 "nbformat_minor": 4
}
